{
 "cells": [
  {
   "cell_type": "markdown",
   "metadata": {},
   "source": [
    "# Multilevel models\n",
    "The computational cost of the Bayesian models we run in the main paper preventud us from including and item-level adjustments to our parameters. To test whether results would have been different had we included such adjustments, we here fit frequentist models using the `MixedModels` Julia package that include the same population-level parameters than their Bayesian counterparts, but also include random interrcepts. As we did in the main paper, we model comprehensive and productive vocabulary data separately, fitting increasingly more complex models that include a maximal random effects structure. We then select the model that fits the data the best, and use the `rePCA()` function to simplify the random effects structure of the selected models. Finally, we compare the estimates and performance of these models with those of the Bayesian models reported in the main paper."
   ]
  },
  {
   "cell_type": "markdown",
   "metadata": {},
   "source": [
    "## Set up"
   ]
  },
  {
   "cell_type": "code",
   "execution_count": 1,
   "metadata": {},
   "outputs": [],
   "source": [
    "using CSV, DataFrames, StatsBase, StatsModels, GLM, MixedModels, Plots, Distributions, GLM, Random"
   ]
  },
  {
   "cell_type": "markdown",
   "metadata": {},
   "source": [
    "## Import and process data"
   ]
  },
  {
   "cell_type": "code",
   "execution_count": 4,
   "metadata": {},
   "outputs": [
    {
     "data": {
      "text/html": [
       "<table class=\"data-frame\"><thead><tr><th></th><th>variable</th><th>mean</th><th>min</th><th>median</th><th>max</th><th>nunique</th><th>nmissing</th></tr><tr><th></th><th>Symbol</th><th>Union…</th><th>Any</th><th>Union…</th><th>Any</th><th>Union…</th><th>Nothing</th></tr></thead><tbody><p>8 rows × 8 columns (omitted printing of 1 columns)</p><tr><th>1</th><td>id</td><td></td><td>bilexicon_022</td><td></td><td>bilexicon_997</td><td>350</td><td></td></tr><tr><th>2</th><td>age</td><td>22.5576</td><td>12.1314</td><td>22.2559</td><td>35.9653</td><td></td><td></td></tr><tr><th>3</th><td>bilingualism</td><td>2.3658</td><td>0.0</td><td>2.5</td><td>5.0</td><td></td><td></td></tr><tr><th>4</th><td>te</td><td>397.02</td><td>1</td><td>397.0</td><td>798</td><td></td><td></td></tr><tr><th>5</th><td>frequency</td><td>4.28408</td><td>1.68194</td><td>4.25578</td><td>6.53745</td><td></td><td></td></tr><tr><th>6</th><td>dominance</td><td></td><td>L1</td><td></td><td>L2</td><td>2</td><td></td></tr><tr><th>7</th><td>cognate</td><td></td><td>Cognate</td><td></td><td>Non-Cognate</td><td>2</td><td></td></tr><tr><th>8</th><td>response</td><td></td><td>No</td><td></td><td>Understands &amp; Says</td><td>3</td><td></td></tr></tbody></table>"
      ],
      "text/latex": [
       "\\begin{tabular}{r|cccccccc}\n",
       "\t& variable & mean & min & median & max & nunique & nmissing & \\\\\n",
       "\t\\hline\n",
       "\t& Symbol & Union… & Any & Union… & Any & Union… & Nothing & \\\\\n",
       "\t\\hline\n",
       "\t1 & id &  & bilexicon\\_022 &  & bilexicon\\_997 & 350 &  & $\\dots$ \\\\\n",
       "\t2 & age & 22.5576 & 12.1314 & 22.2559 & 35.9653 &  &  & $\\dots$ \\\\\n",
       "\t3 & bilingualism & 2.3658 & 0.0 & 2.5 & 5.0 &  &  & $\\dots$ \\\\\n",
       "\t4 & te & 397.02 & 1 & 397.0 & 798 &  &  & $\\dots$ \\\\\n",
       "\t5 & frequency & 4.28408 & 1.68194 & 4.25578 & 6.53745 &  &  & $\\dots$ \\\\\n",
       "\t6 & dominance &  & L1 &  & L2 & 2 &  & $\\dots$ \\\\\n",
       "\t7 & cognate &  & Cognate &  & Non-Cognate & 2 &  & $\\dots$ \\\\\n",
       "\t8 & response &  & No &  & Understands \\& Says & 3 &  & $\\dots$ \\\\\n",
       "\\end{tabular}\n"
      ],
      "text/plain": [
       "8×8 DataFrame. Omitted printing of 3 columns\n",
       "│ Row │ variable     │ mean    │ min           │ median  │ max                │\n",
       "│     │ \u001b[90mSymbol\u001b[39m       │ \u001b[90mUnion…\u001b[39m  │ \u001b[90mAny\u001b[39m           │ \u001b[90mUnion…\u001b[39m  │ \u001b[90mAny\u001b[39m                │\n",
       "├─────┼──────────────┼─────────┼───────────────┼─────────┼────────────────────┤\n",
       "│ 1   │ id           │         │ bilexicon_022 │         │ bilexicon_997      │\n",
       "│ 2   │ age          │ 22.5576 │ 12.1314       │ 22.2559 │ 35.9653            │\n",
       "│ 3   │ bilingualism │ 2.3658  │ 0.0           │ 2.5     │ 5.0                │\n",
       "│ 4   │ te           │ 397.02  │ 1             │ 397.0   │ 798                │\n",
       "│ 5   │ frequency    │ 4.28408 │ 1.68194       │ 4.25578 │ 6.53745            │\n",
       "│ 6   │ dominance    │         │ L1            │         │ L2                 │\n",
       "│ 7   │ cognate      │         │ Cognate       │         │ Non-Cognate        │\n",
       "│ 8   │ response     │         │ No            │         │ Understands & Says │"
      ]
     },
     "execution_count": 4,
     "metadata": {},
     "output_type": "execute_result"
    }
   ],
   "source": [
    "d = CSV.read(\"../Data/responses.csv\", DataFrame);\n",
    "describe(d)"
   ]
  },
  {
   "cell_type": "code",
   "execution_count": 16,
   "metadata": {},
   "outputs": [
    {
     "data": {
      "text/html": [
       "<table class=\"data-frame\"><thead><tr><th></th><th>id</th><th>age</th><th>bilingualism</th><th>te</th><th>frequency</th><th>dominance</th><th>cognate</th></tr><tr><th></th><th>String</th><th>Float64</th><th>Float64</th><th>Cat…</th><th>Float64</th><th>String</th><th>String</th></tr></thead><tbody><p>202,527 rows × 8 columns (omitted printing of 1 columns)</p><tr><th>1</th><td>bilexicon_022</td><td>1.77958</td><td>-1.42725</td><td>1</td><td>-0.323777</td><td>L1</td><td>Non-Cognate</td></tr><tr><th>2</th><td>bilexicon_022</td><td>1.77958</td><td>-1.42725</td><td>1</td><td>-0.639659</td><td>L2</td><td>Non-Cognate</td></tr><tr><th>3</th><td>bilexicon_022</td><td>1.77958</td><td>-1.42725</td><td>2</td><td>-0.470753</td><td>L1</td><td>Cognate</td></tr><tr><th>4</th><td>bilexicon_022</td><td>1.77958</td><td>-1.42725</td><td>2</td><td>-1.01239</td><td>L2</td><td>Cognate</td></tr><tr><th>5</th><td>bilexicon_022</td><td>1.77958</td><td>-1.42725</td><td>3</td><td>1.04875</td><td>L1</td><td>Cognate</td></tr><tr><th>6</th><td>bilexicon_022</td><td>1.77958</td><td>-1.42725</td><td>3</td><td>0.73227</td><td>L2</td><td>Cognate</td></tr><tr><th>7</th><td>bilexicon_022</td><td>1.77958</td><td>-1.42725</td><td>4</td><td>1.41809</td><td>L1</td><td>Cognate</td></tr><tr><th>8</th><td>bilexicon_022</td><td>1.77958</td><td>-1.42725</td><td>4</td><td>0.486446</td><td>L2</td><td>Cognate</td></tr><tr><th>9</th><td>bilexicon_022</td><td>1.77958</td><td>-1.42725</td><td>5</td><td>0.235984</td><td>L1</td><td>Cognate</td></tr><tr><th>10</th><td>bilexicon_022</td><td>1.77958</td><td>-1.42725</td><td>5</td><td>-0.751657</td><td>L2</td><td>Cognate</td></tr><tr><th>11</th><td>bilexicon_022</td><td>1.77958</td><td>-1.42725</td><td>6</td><td>-0.327069</td><td>L1</td><td>Cognate</td></tr><tr><th>12</th><td>bilexicon_022</td><td>1.77958</td><td>-1.42725</td><td>6</td><td>-0.170745</td><td>L2</td><td>Cognate</td></tr><tr><th>13</th><td>bilexicon_022</td><td>1.77958</td><td>-1.42725</td><td>7</td><td>0.915512</td><td>L1</td><td>Cognate</td></tr><tr><th>14</th><td>bilexicon_022</td><td>1.77958</td><td>-1.42725</td><td>7</td><td>0.740168</td><td>L2</td><td>Cognate</td></tr><tr><th>15</th><td>bilexicon_022</td><td>1.77958</td><td>-1.42725</td><td>8</td><td>-1.47632</td><td>L1</td><td>Non-Cognate</td></tr><tr><th>16</th><td>bilexicon_022</td><td>1.77958</td><td>-1.42725</td><td>8</td><td>-2.33837</td><td>L2</td><td>Non-Cognate</td></tr><tr><th>17</th><td>bilexicon_022</td><td>1.77958</td><td>-1.42725</td><td>9</td><td>1.59443</td><td>L1</td><td>Cognate</td></tr><tr><th>18</th><td>bilexicon_022</td><td>1.77958</td><td>-1.42725</td><td>9</td><td>1.31082</td><td>L2</td><td>Cognate</td></tr><tr><th>19</th><td>bilexicon_022</td><td>1.77958</td><td>-1.42725</td><td>10</td><td>0.634473</td><td>L1</td><td>Cognate</td></tr><tr><th>20</th><td>bilexicon_022</td><td>1.77958</td><td>-1.42725</td><td>10</td><td>0.776499</td><td>L2</td><td>Cognate</td></tr><tr><th>21</th><td>bilexicon_022</td><td>1.77958</td><td>-1.42725</td><td>11</td><td>0.762225</td><td>L1</td><td>Cognate</td></tr><tr><th>22</th><td>bilexicon_022</td><td>1.77958</td><td>-1.42725</td><td>11</td><td>0.564614</td><td>L2</td><td>Cognate</td></tr><tr><th>23</th><td>bilexicon_022</td><td>1.77958</td><td>-1.42725</td><td>12</td><td>-0.0860385</td><td>L1</td><td>Cognate</td></tr><tr><th>24</th><td>bilexicon_022</td><td>1.77958</td><td>-1.42725</td><td>12</td><td>-1.45365</td><td>L2</td><td>Cognate</td></tr><tr><th>25</th><td>bilexicon_022</td><td>1.77958</td><td>-1.42725</td><td>13</td><td>0.579902</td><td>L1</td><td>Cognate</td></tr><tr><th>26</th><td>bilexicon_022</td><td>1.77958</td><td>-1.42725</td><td>13</td><td>0.737246</td><td>L2</td><td>Cognate</td></tr><tr><th>27</th><td>bilexicon_022</td><td>1.77958</td><td>-1.42725</td><td>14</td><td>-0.0466342</td><td>L2</td><td>Cognate</td></tr><tr><th>28</th><td>bilexicon_022</td><td>1.77958</td><td>-1.42725</td><td>15</td><td>1.75052</td><td>L1</td><td>Cognate</td></tr><tr><th>29</th><td>bilexicon_022</td><td>1.77958</td><td>-1.42725</td><td>15</td><td>1.32064</td><td>L2</td><td>Cognate</td></tr><tr><th>30</th><td>bilexicon_022</td><td>1.77958</td><td>-1.42725</td><td>16</td><td>-1.86087</td><td>L1</td><td>Cognate</td></tr><tr><th>&vellip;</th><td>&vellip;</td><td>&vellip;</td><td>&vellip;</td><td>&vellip;</td><td>&vellip;</td><td>&vellip;</td><td>&vellip;</td></tr></tbody></table>"
      ],
      "text/latex": [
       "\\begin{tabular}{r|cccccccc}\n",
       "\t& id & age & bilingualism & te & frequency & dominance & cognate & \\\\\n",
       "\t\\hline\n",
       "\t& String & Float64 & Float64 & Cat… & Float64 & String & String & \\\\\n",
       "\t\\hline\n",
       "\t1 & bilexicon\\_022 & 1.77958 & -1.42725 & 1 & -0.323777 & L1 & Non-Cognate & $\\dots$ \\\\\n",
       "\t2 & bilexicon\\_022 & 1.77958 & -1.42725 & 1 & -0.639659 & L2 & Non-Cognate & $\\dots$ \\\\\n",
       "\t3 & bilexicon\\_022 & 1.77958 & -1.42725 & 2 & -0.470753 & L1 & Cognate & $\\dots$ \\\\\n",
       "\t4 & bilexicon\\_022 & 1.77958 & -1.42725 & 2 & -1.01239 & L2 & Cognate & $\\dots$ \\\\\n",
       "\t5 & bilexicon\\_022 & 1.77958 & -1.42725 & 3 & 1.04875 & L1 & Cognate & $\\dots$ \\\\\n",
       "\t6 & bilexicon\\_022 & 1.77958 & -1.42725 & 3 & 0.73227 & L2 & Cognate & $\\dots$ \\\\\n",
       "\t7 & bilexicon\\_022 & 1.77958 & -1.42725 & 4 & 1.41809 & L1 & Cognate & $\\dots$ \\\\\n",
       "\t8 & bilexicon\\_022 & 1.77958 & -1.42725 & 4 & 0.486446 & L2 & Cognate & $\\dots$ \\\\\n",
       "\t9 & bilexicon\\_022 & 1.77958 & -1.42725 & 5 & 0.235984 & L1 & Cognate & $\\dots$ \\\\\n",
       "\t10 & bilexicon\\_022 & 1.77958 & -1.42725 & 5 & -0.751657 & L2 & Cognate & $\\dots$ \\\\\n",
       "\t11 & bilexicon\\_022 & 1.77958 & -1.42725 & 6 & -0.327069 & L1 & Cognate & $\\dots$ \\\\\n",
       "\t12 & bilexicon\\_022 & 1.77958 & -1.42725 & 6 & -0.170745 & L2 & Cognate & $\\dots$ \\\\\n",
       "\t13 & bilexicon\\_022 & 1.77958 & -1.42725 & 7 & 0.915512 & L1 & Cognate & $\\dots$ \\\\\n",
       "\t14 & bilexicon\\_022 & 1.77958 & -1.42725 & 7 & 0.740168 & L2 & Cognate & $\\dots$ \\\\\n",
       "\t15 & bilexicon\\_022 & 1.77958 & -1.42725 & 8 & -1.47632 & L1 & Non-Cognate & $\\dots$ \\\\\n",
       "\t16 & bilexicon\\_022 & 1.77958 & -1.42725 & 8 & -2.33837 & L2 & Non-Cognate & $\\dots$ \\\\\n",
       "\t17 & bilexicon\\_022 & 1.77958 & -1.42725 & 9 & 1.59443 & L1 & Cognate & $\\dots$ \\\\\n",
       "\t18 & bilexicon\\_022 & 1.77958 & -1.42725 & 9 & 1.31082 & L2 & Cognate & $\\dots$ \\\\\n",
       "\t19 & bilexicon\\_022 & 1.77958 & -1.42725 & 10 & 0.634473 & L1 & Cognate & $\\dots$ \\\\\n",
       "\t20 & bilexicon\\_022 & 1.77958 & -1.42725 & 10 & 0.776499 & L2 & Cognate & $\\dots$ \\\\\n",
       "\t21 & bilexicon\\_022 & 1.77958 & -1.42725 & 11 & 0.762225 & L1 & Cognate & $\\dots$ \\\\\n",
       "\t22 & bilexicon\\_022 & 1.77958 & -1.42725 & 11 & 0.564614 & L2 & Cognate & $\\dots$ \\\\\n",
       "\t23 & bilexicon\\_022 & 1.77958 & -1.42725 & 12 & -0.0860385 & L1 & Cognate & $\\dots$ \\\\\n",
       "\t24 & bilexicon\\_022 & 1.77958 & -1.42725 & 12 & -1.45365 & L2 & Cognate & $\\dots$ \\\\\n",
       "\t25 & bilexicon\\_022 & 1.77958 & -1.42725 & 13 & 0.579902 & L1 & Cognate & $\\dots$ \\\\\n",
       "\t26 & bilexicon\\_022 & 1.77958 & -1.42725 & 13 & 0.737246 & L2 & Cognate & $\\dots$ \\\\\n",
       "\t27 & bilexicon\\_022 & 1.77958 & -1.42725 & 14 & -0.0466342 & L2 & Cognate & $\\dots$ \\\\\n",
       "\t28 & bilexicon\\_022 & 1.77958 & -1.42725 & 15 & 1.75052 & L1 & Cognate & $\\dots$ \\\\\n",
       "\t29 & bilexicon\\_022 & 1.77958 & -1.42725 & 15 & 1.32064 & L2 & Cognate & $\\dots$ \\\\\n",
       "\t30 & bilexicon\\_022 & 1.77958 & -1.42725 & 16 & -1.86087 & L1 & Cognate & $\\dots$ \\\\\n",
       "\t$\\dots$ & $\\dots$ & $\\dots$ & $\\dots$ & $\\dots$ & $\\dots$ & $\\dots$ & $\\dots$ &  \\\\\n",
       "\\end{tabular}\n"
      ],
      "text/plain": [
       "202527×8 DataFrame. Omitted printing of 3 columns\n",
       "│ Row    │ id            │ age       │ bilingualism │ te   │ frequency  │\n",
       "│        │ \u001b[90mString\u001b[39m        │ \u001b[90mFloat64\u001b[39m   │ \u001b[90mFloat64\u001b[39m      │ \u001b[90mCat…\u001b[39m │ \u001b[90mFloat64\u001b[39m    │\n",
       "├────────┼───────────────┼───────────┼──────────────┼──────┼────────────┤\n",
       "│ 1      │ bilexicon_022 │ 1.77958   │ -1.42725     │ 1    │ -0.323777  │\n",
       "│ 2      │ bilexicon_022 │ 1.77958   │ -1.42725     │ 1    │ -0.639659  │\n",
       "│ 3      │ bilexicon_022 │ 1.77958   │ -1.42725     │ 2    │ -0.470753  │\n",
       "│ 4      │ bilexicon_022 │ 1.77958   │ -1.42725     │ 2    │ -1.01239   │\n",
       "│ 5      │ bilexicon_022 │ 1.77958   │ -1.42725     │ 3    │ 1.04875    │\n",
       "│ 6      │ bilexicon_022 │ 1.77958   │ -1.42725     │ 3    │ 0.73227    │\n",
       "│ 7      │ bilexicon_022 │ 1.77958   │ -1.42725     │ 4    │ 1.41809    │\n",
       "│ 8      │ bilexicon_022 │ 1.77958   │ -1.42725     │ 4    │ 0.486446   │\n",
       "│ 9      │ bilexicon_022 │ 1.77958   │ -1.42725     │ 5    │ 0.235984   │\n",
       "│ 10     │ bilexicon_022 │ 1.77958   │ -1.42725     │ 5    │ -0.751657  │\n",
       "⋮\n",
       "│ 202517 │ bilexicon_997 │ -0.281832 │ 0.382601     │ 785  │ -0.832726  │\n",
       "│ 202518 │ bilexicon_997 │ -0.281832 │ 0.382601     │ 786  │ 1.52578    │\n",
       "│ 202519 │ bilexicon_997 │ -0.281832 │ 0.382601     │ 786  │ 1.08907    │\n",
       "│ 202520 │ bilexicon_997 │ -0.281832 │ 0.382601     │ 789  │ -0.336658  │\n",
       "│ 202521 │ bilexicon_997 │ -0.281832 │ 0.382601     │ 789  │ -0.35214   │\n",
       "│ 202522 │ bilexicon_997 │ -0.281832 │ 0.382601     │ 793  │ 0.117269   │\n",
       "│ 202523 │ bilexicon_997 │ -0.281832 │ 0.382601     │ 793  │ 0.0563607  │\n",
       "│ 202524 │ bilexicon_997 │ -0.281832 │ 0.382601     │ 794  │ 0.424761   │\n",
       "│ 202525 │ bilexicon_997 │ -0.281832 │ 0.382601     │ 794  │ -0.0700199 │\n",
       "│ 202526 │ bilexicon_997 │ -0.281832 │ 0.382601     │ 797  │ 0.793339   │\n",
       "│ 202527 │ bilexicon_997 │ -0.281832 │ 0.382601     │ 797  │ 0.792751   │"
      ]
     },
     "execution_count": 16,
     "metadata": {},
     "output_type": "execute_result"
    }
   ],
   "source": [
    "# recode variables\n",
    "d.te = categorical(d.te);\n",
    "\n",
    "d.age = zscore(d.age);\n",
    "d.frequency = zscore(d.frequency);\n",
    "d.bilingualism = zscore(d.bilingualism);\n",
    "\n",
    "contr = Dict(\n",
    "    :dominance => ContrastsCoding(Matrix([1/2 -1/2]'), levels = [\"L1\", \"L2\"]),\n",
    "    :cognate => ContrastsCoding(Matrix([1/2 -1/2]'), levels = [\"Cognate\", \"Non-cognate\"]),\n",
    ");\n",
    "d"
   ]
  },
  {
   "cell_type": "markdown",
   "metadata": {},
   "source": [
    "## Fit models"
   ]
  },
  {
   "cell_type": "code",
   "execution_count": 25,
   "metadata": {},
   "outputs": [
    {
     "ename": "LoadError",
     "evalue": "MethodError: no method matching LinearMixedModel(::Array{Float64,2}, ::Array{Float64,2}, ::FormulaTerm{CategoricalTerm{DummyCoding,String,2},MatrixTerm{Tuple{InterceptTerm{true},ContinuousTerm{Float64},ContinuousTerm{Float64}}}}, ::Array{Any,1})\nClosest candidates are:\n  LinearMixedModel(::AbstractArray, !Matched::Tuple, ::FormulaTerm, ::Any) at C:\\Users\\gonza\\.julia\\packages\\MixedModels\\xxsHZ\\src\\linearmixedmodel.jl:88\n  LinearMixedModel(::AbstractArray, !Matched::Tuple, ::FormulaTerm) at C:\\Users\\gonza\\.julia\\packages\\MixedModels\\xxsHZ\\src\\linearmixedmodel.jl:88\n  LinearMixedModel(!Matched::Array{MixedModels.FeMat{T,S} where S<:(AbstractArray{T,2} where T),1}, !Matched::Array{AbstractReMat{T},1}, ::FormulaTerm, ::Any) where T at C:\\Users\\gonza\\.julia\\packages\\MixedModels\\xxsHZ\\src\\linearmixedmodel.jl:136\n  ...",
     "output_type": "error",
     "traceback": [
      "MethodError: no method matching LinearMixedModel(::Array{Float64,2}, ::Array{Float64,2}, ::FormulaTerm{CategoricalTerm{DummyCoding,String,2},MatrixTerm{Tuple{InterceptTerm{true},ContinuousTerm{Float64},ContinuousTerm{Float64}}}}, ::Array{Any,1})\nClosest candidates are:\n  LinearMixedModel(::AbstractArray, !Matched::Tuple, ::FormulaTerm, ::Any) at C:\\Users\\gonza\\.julia\\packages\\MixedModels\\xxsHZ\\src\\linearmixedmodel.jl:88\n  LinearMixedModel(::AbstractArray, !Matched::Tuple, ::FormulaTerm) at C:\\Users\\gonza\\.julia\\packages\\MixedModels\\xxsHZ\\src\\linearmixedmodel.jl:88\n  LinearMixedModel(!Matched::Array{MixedModels.FeMat{T,S} where S<:(AbstractArray{T,2} where T),1}, !Matched::Array{AbstractReMat{T},1}, ::FormulaTerm, ::Any) where T at C:\\Users\\gonza\\.julia\\packages\\MixedModels\\xxsHZ\\src\\linearmixedmodel.jl:136\n  ...",
      "",
      "Stacktrace:",
      " [1] LinearMixedModel(::FormulaTerm{Term,Tuple{Term,Term}}, ::NamedTuple{(:id, :age, :bilingualism, :te, :frequency, :dominance, :cognate, :response),Tuple{PooledArrays.PooledArray{String,UInt32,1,Array{UInt32,1}},Array{Float64,1},Array{Float64,1},CategoricalArray{Int64,1,UInt32,Int64,CategoricalValue{Int64,UInt32},Union{}},Array{Float64,1},PooledArrays.PooledArray{String,UInt32,1,Array{UInt32,1}},PooledArrays.PooledArray{String,UInt32,1,Array{UInt32,1}},PooledArrays.PooledArray{String,UInt32,1,Array{UInt32,1}}}}; contrasts::Dict{Symbol,ContrastsCoding{Array{Float64,2}}}, wts::Array{Any,1}) at C:\\Users\\gonza\\.julia\\packages\\MixedModels\\xxsHZ\\src\\linearmixedmodel.jl:72",
      " [2] fit(::Type{LinearMixedModel}, ::FormulaTerm{Term,Tuple{Term,Term}}, ::NamedTuple{(:id, :age, :bilingualism, :te, :frequency, :dominance, :cognate, :response),Tuple{PooledArrays.PooledArray{String,UInt32,1,Array{UInt32,1}},Array{Float64,1},Array{Float64,1},CategoricalArray{Int64,1,UInt32,Int64,CategoricalValue{Int64,UInt32},Union{}},Array{Float64,1},PooledArrays.PooledArray{String,UInt32,1,Array{UInt32,1}},PooledArrays.PooledArray{String,UInt32,1,Array{UInt32,1}},PooledArrays.PooledArray{String,UInt32,1,Array{UInt32,1}}}}; wts::Array{Any,1}, contrasts::Dict{Symbol,ContrastsCoding{Array{Float64,2}}}, verbose::Bool, REML::Bool) at C:\\Users\\gonza\\.julia\\packages\\MixedModels\\xxsHZ\\src\\linearmixedmodel.jl:194",
      " [3] fit(::Type{LinearMixedModel}, ::FormulaTerm{Term,Tuple{Term,Term}}, ::DataFrame; wts::Array{Any,1}, contrasts::Dict{Symbol,ContrastsCoding{Array{Float64,2}}}, verbose::Bool, REML::Bool) at C:\\Users\\gonza\\.julia\\packages\\MixedModels\\xxsHZ\\src\\linearmixedmodel.jl:176",
      " [4] top-level scope at In[25]:2",
      " [5] include_string(::Function, ::Module, ::String, ::String) at .\\loading.jl:1091"
     ]
    }
   ],
   "source": [
    "fit_0_fm = @formula(response ~ age + frequency + (1 + age | te) + (1 + frequency | id));\n",
    "fit_0 = fit(MixedModel, fit_0_fm, d, contrasts = contr);\n",
    "GLM.CategoricalTerm"
   ]
  },
  {
   "cell_type": "code",
   "execution_count": 22,
   "metadata": {},
   "outputs": [
    {
     "ename": "LoadError",
     "evalue": "DimensionMismatch(\"\")",
     "output_type": "error",
     "traceback": [
      "DimensionMismatch(\"\")",
      "",
      "Stacktrace:",
      " [1] mul!(::Array{Float64,2}, ::LinearAlgebra.Adjoint{Float64,MixedModels.FeMat{Float64,Array{Float64,2}}}, ::ReMat{Float64,2}, ::Bool, ::Bool) at C:\\Users\\gonza\\.julia\\packages\\MixedModels\\xxsHZ\\src\\remat.jl:287",
      " [2] mul! at C:\\buildbot\\worker\\package_win64\\build\\usr\\share\\julia\\stdlib\\v1.5\\LinearAlgebra\\src\\matmul.jl:208 [inlined]",
      " [3] *(::LinearAlgebra.Adjoint{Float64,MixedModels.FeMat{Float64,Array{Float64,2}}}, ::ReMat{Float64,2}) at C:\\Users\\gonza\\.julia\\packages\\MixedModels\\xxsHZ\\src\\remat.jl:254",
      " [4] createAL(::Array{Union{AbstractReMat{Float64}, MixedModels.FeMat{Float64,S} where S<:(AbstractArray{T,2} where T)},1}) at C:\\Users\\gonza\\.julia\\packages\\MixedModels\\xxsHZ\\src\\linearmixedmodel.jl:306",
      " [5] LinearMixedModel(::Array{MixedModels.FeMat{Float64,S} where S<:(AbstractArray{T,2} where T),1}, ::Array{AbstractReMat{Float64},1}, ::FormulaTerm{CategoricalTerm{DummyCoding,String,2},Tuple{MatrixTerm{Tuple{InterceptTerm{true},ContinuousTerm{Float64},ContinuousTerm{Float64}}},RandomEffectsTerm}}, ::Array{Any,1}) at C:\\Users\\gonza\\.julia\\packages\\MixedModels\\xxsHZ\\src\\linearmixedmodel.jl:148",
      " [6] LinearMixedModel(::Array{Float64,2}, ::Tuple{Array{Float64,2},ReMat{Float64,2}}, ::FormulaTerm{CategoricalTerm{DummyCoding,String,2},Tuple{MatrixTerm{Tuple{InterceptTerm{true},ContinuousTerm{Float64},ContinuousTerm{Float64}}},RandomEffectsTerm}}, ::Array{Any,1}) at C:\\Users\\gonza\\.julia\\packages\\MixedModels\\xxsHZ\\src\\linearmixedmodel.jl:119",
      " [7] LinearMixedModel(::FormulaTerm{Term,Tuple{Term,Term,FunctionTerm{typeof(|),var\"#65#66\",(:age, :te)}}}, ::NamedTuple{(:id, :age, :bilingualism, :te, :frequency, :dominance, :cognate, :response),Tuple{PooledArrays.PooledArray{String,UInt32,1,Array{UInt32,1}},Array{Float64,1},Array{Float64,1},CategoricalArray{Int64,1,UInt32,Int64,CategoricalValue{Int64,UInt32},Union{}},Array{Float64,1},PooledArrays.PooledArray{String,UInt32,1,Array{UInt32,1}},PooledArrays.PooledArray{String,UInt32,1,Array{UInt32,1}},PooledArrays.PooledArray{String,UInt32,1,Array{UInt32,1}}}}; contrasts::Dict{Symbol,ContrastsCoding{Array{Float64,2}}}, wts::Array{Any,1}) at C:\\Users\\gonza\\.julia\\packages\\MixedModels\\xxsHZ\\src\\linearmixedmodel.jl:72",
      " [8] fit(::Type{LinearMixedModel}, ::FormulaTerm{Term,Tuple{Term,Term,FunctionTerm{typeof(|),var\"#65#66\",(:age, :te)}}}, ::NamedTuple{(:id, :age, :bilingualism, :te, :frequency, :dominance, :cognate, :response),Tuple{PooledArrays.PooledArray{String,UInt32,1,Array{UInt32,1}},Array{Float64,1},Array{Float64,1},CategoricalArray{Int64,1,UInt32,Int64,CategoricalValue{Int64,UInt32},Union{}},Array{Float64,1},PooledArrays.PooledArray{String,UInt32,1,Array{UInt32,1}},PooledArrays.PooledArray{String,UInt32,1,Array{UInt32,1}},PooledArrays.PooledArray{String,UInt32,1,Array{UInt32,1}}}}; wts::Array{Any,1}, contrasts::Dict{Symbol,ContrastsCoding{Array{Float64,2}}}, verbose::Bool, REML::Bool) at C:\\Users\\gonza\\.julia\\packages\\MixedModels\\xxsHZ\\src\\linearmixedmodel.jl:194",
      " [9] fit(::Type{LinearMixedModel}, ::FormulaTerm{Term,Tuple{Term,Term,FunctionTerm{typeof(|),var\"#65#66\",(:age, :te)}}}, ::DataFrame; wts::Array{Any,1}, contrasts::Dict{Symbol,ContrastsCoding{Array{Float64,2}}}, verbose::Bool, REML::Bool) at C:\\Users\\gonza\\.julia\\packages\\MixedModels\\xxsHZ\\src\\linearmixedmodel.jl:176",
      " [10] top-level scope at In[22]:2",
      " [11] include_string(::Function, ::Module, ::String, ::String) at .\\loading.jl:1091"
     ]
    }
   ],
   "source": [
    "\n",
    "fit_1_fm = @formula(response ~ age + frequency + dominance + (1 + age + dominance | te) + (1 + frequency + dominance | id));\n",
    "fit_2_fm = @formula(response ~ age + frequency + dominance*bilingualism  + (1 + age + dominance*bilingualism | te) + (1 + frequency + dominance | id));\n",
    "fit_3_fm = @formula(response ~ age + frequency + dominance*bilingualism*cognate + (1 + age + dominance*bilingualism| te) + (1 + frequency + dominance*cognate | id));\n",
    "# fit comprehension models\n",
    "fit_1 = fit(LinearMixedModel, fit_1_fm, d, contrasts = contr);\n",
    "fit_2 = fit(LinearMixedModel, fit_2_fm, d, contrasts = contr);\n",
    "fit_3 = fit(LinearMixedModel, fit_3_fm, d, contrasts = contr);"
   ]
  },
  {
   "cell_type": "code",
   "execution_count": 43,
   "metadata": {},
   "outputs": [],
   "source": [
    "# formulas for production models\n",
    "prod_0_fm_fix = @formula(produces_elog ~ age + frequency);\n",
    "prod_0_fm = @formula(produces_elog ~ age + frequency + (1 + age + dominance | te));\n",
    "prod_0_fm = @formula(produces_elog ~ age + frequency + (1 + age + dominance | te));\n",
    "prod_1_fm = @formula(produces_elog ~ age + frequency + dominance + (1 + age + dominance | te));\n",
    "prod_2_fm = @formula(produces_elog ~ age + frequency + dominance + bilingualism  + (1 + age + dominance + bilingualism | te));\n",
    "prod_3_fm = @formula(produces_elog ~ age + frequency + dominance*bilingualism  + (1 + age + dominance*bilingualism | te));\n",
    "prod_4_fm = @formula(produces_elog ~ age + frequency + dominance*bilingualism + cognate + (1 + age + dominance*bilingualism | te));\n",
    "prod_5_fm = @formula(produces_elog ~ age + frequency + dominance*bilingualism + cognate + dominance*cognate + (1 + age + dominance*bilingualism | te));\n",
    "prod_6_fm = @formula(produces_elog ~ age + frequency + dominance*bilingualism + cognate + dominance*cognate + bilingualism*cognate + (1 + age + dominance*bilingualism | te));\n",
    "prod_7_fm = @formula(produces_elog ~ age + frequency + dominance*bilingualism*cognate + (1 + age + dominance*bilingualism | te));"
   ]
  },
  {
   "cell_type": "code",
   "execution_count": 44,
   "metadata": {},
   "outputs": [
    {
     "data": {
      "text/plain": [
       "Linear mixed model fit by maximum likelihood\n",
       " produces_elog ~ 1 + age + frequency + dominance + bilingualism + cognate + dominance & bilingualism + dominance & cognate + bilingualism & cognate + dominance & bilingualism & cognate + (1 + age + dominance + bilingualism + dominance & bilingualism | te)\n",
       "    logLik   -2 logLik      AIC         AICc        BIC     \n",
       " -59600.2926 119200.5852 119252.5852 119252.6009 119496.9556\n",
       "\n",
       "Variance components:\n",
       "                    Column             Variance  Std.Dev.   Corr.\n",
       "te       (Intercept)                   0.0558341 0.2362924\n",
       "         age                           0.0128302 0.1132703 +0.80\n",
       "         dominance: L2                 0.0093123 0.0965002 -0.88 -0.74\n",
       "         bilingualism                  0.0001900 0.0137849 -0.84 -0.98 +0.86\n",
       "         dominance: L2 & bilingualism  0.0016522 0.0406471 +1.00 +0.79 -0.92 -0.85\n",
       "Residual                               0.2161575 0.4649274\n",
       " Number of obs: 89220; levels of grouping factors: 470\n",
       "\n",
       "  Fixed-effects parameters:\n",
       "──────────────────────────────────────────────────────────────────────────────────────────────\n",
       "                                                           Coef.  Std. Error       z  Pr(>|z|)\n",
       "──────────────────────────────────────────────────────────────────────────────────────────────\n",
       "(Intercept)                                          -0.00990324  0.0117534    -0.84    0.3995\n",
       "age                                                   0.249413    0.00548021   45.51    <1e-99\n",
       "frequency                                             0.0233428   0.0033579     6.95    <1e-11\n",
       "dominance: L2                                        -0.130772    0.00603137  -21.68    <1e-99\n",
       "bilingualism                                         -0.00456135  0.00266965   -1.71    0.0875\n",
       "cognate: Non-Cognate                                  0.0585188   0.0158562     3.69    0.0002\n",
       "dominance: L2 & bilingualism                          0.0553812   0.00413449   13.39    <1e-40\n",
       "dominance: L2 & cognate: Non-Cognate                 -0.0611308   0.0101027    -6.05    <1e-8\n",
       "bilingualism & cognate: Non-Cognate                  -0.0147263   0.00503433   -2.93    0.0034\n",
       "dominance: L2 & bilingualism & cognate: Non-Cognate   0.025617    0.0075544     3.39    0.0007\n",
       "──────────────────────────────────────────────────────────────────────────────────────────────"
      ]
     },
     "execution_count": 44,
     "metadata": {},
     "output_type": "execute_result"
    }
   ],
   "source": [
    "# fit production models\n",
    "prod_0_fix = lm(prod_0_fm_fix, d, contrasts = contr);\n",
    "prod_0 = fit(LinearMixedModel, prod_0_fm, d, contrasts = contr);\n",
    "prod_1 = fit(LinearMixedModel, prod_1_fm, d, contrasts = contr);\n",
    "prod_2 = fit(LinearMixedModel, prod_2_fm, d, contrasts = contr);\n",
    "prod_3 = fit(LinearMixedModel, prod_3_fm, d, contrasts = contr);\n",
    "prod_4 = fit(LinearMixedModel, prod_4_fm, d, contrasts = contr);\n",
    "prod_5 = fit(LinearMixedModel, prod_5_fm, d, contrasts = contr);\n",
    "prod_6 = fit(LinearMixedModel, prod_6_fm, d, contrasts = contr);\n",
    "prod_7 = fit(LinearMixedModel, prod_7_fm, d, contrasts = contr)"
   ]
  },
  {
   "cell_type": "markdown",
   "metadata": {},
   "source": [
    "## Model comparison"
   ]
  },
  {
   "cell_type": "markdown",
   "metadata": {},
   "source": [
    "### Compare comprehension models"
   ]
  },
  {
   "cell_type": "code",
   "execution_count": 45,
   "metadata": {},
   "outputs": [
    {
     "data": {
      "text/html": [
       "<table class=\"data-frame\"><thead><tr><th></th><th>model</th><th>dof</th><th>deviance</th><th>AIC</th><th>AICc</th><th>BIC</th></tr><tr><th></th><th>String</th><th>Int64</th><th>Float64</th><th>Float64</th><th>Float64</th><th>Float64</th></tr></thead><tbody><p>9 rows × 6 columns</p><tr><th>1</th><td>comp_0_fix</td><td>7</td><td>1.91845e5</td><td>1.91859e5</td><td>1.91859e5</td><td>1.91925e5</td></tr><tr><th>2</th><td>comp_0</td><td>5</td><td>53926.6</td><td>2.08285e5</td><td>2.08285e5</td><td>2.08332e5</td></tr><tr><th>3</th><td>comp_1</td><td>11</td><td>1.8804e5</td><td>1.88062e5</td><td>1.88062e5</td><td>1.88165e5</td></tr><tr><th>4</th><td>comp_2</td><td>16</td><td>1.87161e5</td><td>1.87193e5</td><td>1.87193e5</td><td>1.87344e5</td></tr><tr><th>5</th><td>comp_3</td><td>22</td><td>1.84798e5</td><td>1.84842e5</td><td>1.84842e5</td><td>1.85049e5</td></tr><tr><th>6</th><td>comp_4</td><td>23</td><td>1.84773e5</td><td>1.84819e5</td><td>1.84819e5</td><td>1.85035e5</td></tr><tr><th>7</th><td>comp_5</td><td>24</td><td>1.84747e5</td><td>1.84795e5</td><td>1.84795e5</td><td>1.85021e5</td></tr><tr><th>8</th><td>comp_6</td><td>25</td><td>1.84747e5</td><td>1.84797e5</td><td>1.84797e5</td><td>1.85032e5</td></tr><tr><th>9</th><td>comp_7</td><td>26</td><td>1.84704e5</td><td>1.84756e5</td><td>1.84756e5</td><td>1.85001e5</td></tr></tbody></table>"
      ],
      "text/latex": [
       "\\begin{tabular}{r|cccccc}\n",
       "\t& model & dof & deviance & AIC & AICc & BIC\\\\\n",
       "\t\\hline\n",
       "\t& String & Int64 & Float64 & Float64 & Float64 & Float64\\\\\n",
       "\t\\hline\n",
       "\t1 & comp\\_0\\_fix & 7 & 1.91845e5 & 1.91859e5 & 1.91859e5 & 1.91925e5 \\\\\n",
       "\t2 & comp\\_0 & 5 & 53926.6 & 2.08285e5 & 2.08285e5 & 2.08332e5 \\\\\n",
       "\t3 & comp\\_1 & 11 & 1.8804e5 & 1.88062e5 & 1.88062e5 & 1.88165e5 \\\\\n",
       "\t4 & comp\\_2 & 16 & 1.87161e5 & 1.87193e5 & 1.87193e5 & 1.87344e5 \\\\\n",
       "\t5 & comp\\_3 & 22 & 1.84798e5 & 1.84842e5 & 1.84842e5 & 1.85049e5 \\\\\n",
       "\t6 & comp\\_4 & 23 & 1.84773e5 & 1.84819e5 & 1.84819e5 & 1.85035e5 \\\\\n",
       "\t7 & comp\\_5 & 24 & 1.84747e5 & 1.84795e5 & 1.84795e5 & 1.85021e5 \\\\\n",
       "\t8 & comp\\_6 & 25 & 1.84747e5 & 1.84797e5 & 1.84797e5 & 1.85032e5 \\\\\n",
       "\t9 & comp\\_7 & 26 & 1.84704e5 & 1.84756e5 & 1.84756e5 & 1.85001e5 \\\\\n",
       "\\end{tabular}\n"
      ],
      "text/plain": [
       "9×6 DataFrame\n",
       "│ Row │ model      │ dof   │ deviance  │ AIC       │ AICc      │ BIC       │\n",
       "│     │ \u001b[90mString\u001b[39m     │ \u001b[90mInt64\u001b[39m │ \u001b[90mFloat64\u001b[39m   │ \u001b[90mFloat64\u001b[39m   │ \u001b[90mFloat64\u001b[39m   │ \u001b[90mFloat64\u001b[39m   │\n",
       "├─────┼────────────┼───────┼───────────┼───────────┼───────────┼───────────┤\n",
       "│ 1   │ comp_0_fix │ 7     │ 1.91845e5 │ 1.91859e5 │ 1.91859e5 │ 1.91925e5 │\n",
       "│ 2   │ comp_0     │ 5     │ 53926.6   │ 2.08285e5 │ 2.08285e5 │ 2.08332e5 │\n",
       "│ 3   │ comp_1     │ 11    │ 1.8804e5  │ 1.88062e5 │ 1.88062e5 │ 1.88165e5 │\n",
       "│ 4   │ comp_2     │ 16    │ 1.87161e5 │ 1.87193e5 │ 1.87193e5 │ 1.87344e5 │\n",
       "│ 5   │ comp_3     │ 22    │ 1.84798e5 │ 1.84842e5 │ 1.84842e5 │ 1.85049e5 │\n",
       "│ 6   │ comp_4     │ 23    │ 1.84773e5 │ 1.84819e5 │ 1.84819e5 │ 1.85035e5 │\n",
       "│ 7   │ comp_5     │ 24    │ 1.84747e5 │ 1.84795e5 │ 1.84795e5 │ 1.85021e5 │\n",
       "│ 8   │ comp_6     │ 25    │ 1.84747e5 │ 1.84797e5 │ 1.84797e5 │ 1.85032e5 │\n",
       "│ 9   │ comp_7     │ 26    │ 1.84704e5 │ 1.84756e5 │ 1.84756e5 │ 1.85001e5 │"
      ]
     },
     "execution_count": 45,
     "metadata": {},
     "output_type": "execute_result"
    }
   ],
   "source": [
    "# compare comprehension models\n",
    "comp_mods = [comp_0_fix, comp_0, comp_1, comp_2, comp_3, comp_4, comp_5, comp_6, comp_7];\n",
    "\n",
    "comparison = DataFrame(\n",
    "    model = [\"comp_0_fix\", \"comp_0\", \"comp_1\", \"comp_2\", \"comp_3\", \"comp_4\", \"comp_5\", \"comp_6\", \"comp_7\"],\n",
    "    dof = dof.(comp_mods),\n",
    "    deviance = deviance.(comp_mods),\n",
    "    AIC = aic.(comp_mods),\n",
    "    AICc = aicc.(comp_mods),\n",
    "    BIC = bic.(comp_mods)\n",
    ")"
   ]
  },
  {
   "cell_type": "markdown",
   "metadata": {},
   "source": [
    "### Compare production models"
   ]
  },
  {
   "cell_type": "code",
   "execution_count": 46,
   "metadata": {},
   "outputs": [
    {
     "data": {
      "text/html": [
       "<table class=\"data-frame\"><thead><tr><th></th><th>model</th><th>dof</th><th>deviance</th><th>AIC</th><th>AICc</th><th>BIC</th></tr><tr><th></th><th>String</th><th>Int64</th><th>Float64</th><th>Float64</th><th>Float64</th><th>Float64</th></tr></thead><tbody><p>9 rows × 6 columns</p><tr><th>1</th><td>prod_0_fix</td><td>4</td><td>24396.3</td><td>1.37514e5</td><td>1.37514e5</td><td>1.37552e5</td></tr><tr><th>2</th><td>prod_0</td><td>10</td><td>1.20552e5</td><td>1.20572e5</td><td>1.20572e5</td><td>1.20666e5</td></tr><tr><th>3</th><td>prod_1</td><td>11</td><td>120129.0</td><td>120151.0</td><td>120151.0</td><td>1.20254e5</td></tr><tr><th>4</th><td>prod_2</td><td>16</td><td>119853.0</td><td>119885.0</td><td>119885.0</td><td>1.20035e5</td></tr><tr><th>5</th><td>prod_3</td><td>22</td><td>1.19242e5</td><td>1.19286e5</td><td>1.19286e5</td><td>1.19492e5</td></tr><tr><th>6</th><td>prod_4</td><td>23</td><td>1.19241e5</td><td>1.19287e5</td><td>1.19287e5</td><td>1.19504e5</td></tr><tr><th>7</th><td>prod_5</td><td>24</td><td>1.19213e5</td><td>1.19261e5</td><td>1.19261e5</td><td>1.19486e5</td></tr><tr><th>8</th><td>prod_6</td><td>25</td><td>1.19212e5</td><td>1.19262e5</td><td>1.19262e5</td><td>1.19497e5</td></tr><tr><th>9</th><td>prod_7</td><td>26</td><td>1.19201e5</td><td>1.19253e5</td><td>1.19253e5</td><td>119497.0</td></tr></tbody></table>"
      ],
      "text/latex": [
       "\\begin{tabular}{r|cccccc}\n",
       "\t& model & dof & deviance & AIC & AICc & BIC\\\\\n",
       "\t\\hline\n",
       "\t& String & Int64 & Float64 & Float64 & Float64 & Float64\\\\\n",
       "\t\\hline\n",
       "\t1 & prod\\_0\\_fix & 4 & 24396.3 & 1.37514e5 & 1.37514e5 & 1.37552e5 \\\\\n",
       "\t2 & prod\\_0 & 10 & 1.20552e5 & 1.20572e5 & 1.20572e5 & 1.20666e5 \\\\\n",
       "\t3 & prod\\_1 & 11 & 120129.0 & 120151.0 & 120151.0 & 1.20254e5 \\\\\n",
       "\t4 & prod\\_2 & 16 & 119853.0 & 119885.0 & 119885.0 & 1.20035e5 \\\\\n",
       "\t5 & prod\\_3 & 22 & 1.19242e5 & 1.19286e5 & 1.19286e5 & 1.19492e5 \\\\\n",
       "\t6 & prod\\_4 & 23 & 1.19241e5 & 1.19287e5 & 1.19287e5 & 1.19504e5 \\\\\n",
       "\t7 & prod\\_5 & 24 & 1.19213e5 & 1.19261e5 & 1.19261e5 & 1.19486e5 \\\\\n",
       "\t8 & prod\\_6 & 25 & 1.19212e5 & 1.19262e5 & 1.19262e5 & 1.19497e5 \\\\\n",
       "\t9 & prod\\_7 & 26 & 1.19201e5 & 1.19253e5 & 1.19253e5 & 119497.0 \\\\\n",
       "\\end{tabular}\n"
      ],
      "text/plain": [
       "9×6 DataFrame\n",
       "│ Row │ model      │ dof   │ deviance  │ AIC       │ AICc      │ BIC       │\n",
       "│     │ \u001b[90mString\u001b[39m     │ \u001b[90mInt64\u001b[39m │ \u001b[90mFloat64\u001b[39m   │ \u001b[90mFloat64\u001b[39m   │ \u001b[90mFloat64\u001b[39m   │ \u001b[90mFloat64\u001b[39m   │\n",
       "├─────┼────────────┼───────┼───────────┼───────────┼───────────┼───────────┤\n",
       "│ 1   │ prod_0_fix │ 4     │ 24396.3   │ 1.37514e5 │ 1.37514e5 │ 1.37552e5 │\n",
       "│ 2   │ prod_0     │ 10    │ 1.20552e5 │ 1.20572e5 │ 1.20572e5 │ 1.20666e5 │\n",
       "│ 3   │ prod_1     │ 11    │ 120129.0  │ 120151.0  │ 120151.0  │ 1.20254e5 │\n",
       "│ 4   │ prod_2     │ 16    │ 119853.0  │ 119885.0  │ 119885.0  │ 1.20035e5 │\n",
       "│ 5   │ prod_3     │ 22    │ 1.19242e5 │ 1.19286e5 │ 1.19286e5 │ 1.19492e5 │\n",
       "│ 6   │ prod_4     │ 23    │ 1.19241e5 │ 1.19287e5 │ 1.19287e5 │ 1.19504e5 │\n",
       "│ 7   │ prod_5     │ 24    │ 1.19213e5 │ 1.19261e5 │ 1.19261e5 │ 1.19486e5 │\n",
       "│ 8   │ prod_6     │ 25    │ 1.19212e5 │ 1.19262e5 │ 1.19262e5 │ 1.19497e5 │\n",
       "│ 9   │ prod_7     │ 26    │ 1.19201e5 │ 1.19253e5 │ 1.19253e5 │ 119497.0  │"
      ]
     },
     "execution_count": 46,
     "metadata": {},
     "output_type": "execute_result"
    }
   ],
   "source": [
    "# compare production models\n",
    "prod_mods = [prod_0_fix, prod_0, prod_1, prod_2, prod_3, prod_4, prod_5, prod_6, prod_7];\n",
    "\n",
    "comparison = DataFrame(\n",
    "    model = [\"prod_0_fix\", \"prod_0\", \"prod_1\", \"prod_2\", \"prod_3\", \"prod_4\", \"prod_5\", \"prod_6\", \"prod_7\"],\n",
    "    dof = dof.(prod_mods),\n",
    "    deviance = deviance.(prod_mods),\n",
    "    AIC = aic.(prod_mods),\n",
    "    AICc = aicc.(prod_mods),\n",
    "    BIC = bic.(prod_mods)\n",
    ")"
   ]
  },
  {
   "cell_type": "markdown",
   "metadata": {},
   "source": [
    "## Simplify random effects structure"
   ]
  },
  {
   "cell_type": "markdown",
   "metadata": {},
   "source": [
    "### Simplify comprehension model"
   ]
  },
  {
   "cell_type": "code",
   "execution_count": 47,
   "metadata": {},
   "outputs": [
    {
     "data": {
      "text/plain": [
       "Variance components:\n",
       "                    Column             Variance  Std.Dev.   Corr.\n",
       "te       (Intercept)                   0.1849464 0.4300539\n",
       "         age                           0.0101520 0.1007571 +0.33\n",
       "         dominance: L2                 0.0202452 0.1422857 -0.90 -0.36\n",
       "         bilingualism                  0.0005221 0.0228499 -0.60 -0.68 +0.64\n",
       "         dominance: L2 & bilingualism  0.0099506 0.0997528 +0.96 +0.35 -0.99 -0.65\n",
       "Residual                               0.4492446 0.6702571\n"
      ]
     },
     "execution_count": 47,
     "metadata": {},
     "output_type": "execute_result"
    }
   ],
   "source": [
    "VarCorr(comp_7)"
   ]
  },
  {
   "cell_type": "code",
   "execution_count": 48,
   "metadata": {},
   "outputs": [
    {
     "data": {
      "text/html": [
       "<table class=\"data-frame\"><thead><tr><th></th><th>te</th></tr><tr><th></th><th>Float64</th></tr></thead><tbody><p>5 rows × 1 columns</p><tr><th>1</th><td>0.731165</td></tr><tr><th>2</th><td>0.930151</td></tr><tr><th>3</th><td>0.97968</td></tr><tr><th>4</th><td>1.0</td></tr><tr><th>5</th><td>1.0</td></tr></tbody></table>"
      ],
      "text/latex": [
       "\\begin{tabular}{r|c}\n",
       "\t& te\\\\\n",
       "\t\\hline\n",
       "\t& Float64\\\\\n",
       "\t\\hline\n",
       "\t1 & 0.731165 \\\\\n",
       "\t2 & 0.930151 \\\\\n",
       "\t3 & 0.97968 \\\\\n",
       "\t4 & 1.0 \\\\\n",
       "\t5 & 1.0 \\\\\n",
       "\\end{tabular}\n"
      ],
      "text/plain": [
       "5×1 DataFrame\n",
       "│ Row │ te       │\n",
       "│     │ \u001b[90mFloat64\u001b[39m  │\n",
       "├─────┼──────────┤\n",
       "│ 1   │ 0.731165 │\n",
       "│ 2   │ 0.930151 │\n",
       "│ 3   │ 0.97968  │\n",
       "│ 4   │ 1.0      │\n",
       "│ 5   │ 1.0      │"
      ]
     },
     "execution_count": 48,
     "metadata": {},
     "output_type": "execute_result"
    }
   ],
   "source": [
    "DataFrame(comp_7.rePCA)"
   ]
  },
  {
   "cell_type": "code",
   "execution_count": 49,
   "metadata": {},
   "outputs": [
    {
     "data": {
      "text/html": [
       "<table class=\"data-frame\"><thead><tr><th></th><th>te</th></tr><tr><th></th><th>Float64</th></tr></thead><tbody><p>5 rows × 1 columns</p><tr><th>1</th><td>0.25</td></tr><tr><th>2</th><td>0.5</td></tr><tr><th>3</th><td>0.75</td></tr><tr><th>4</th><td>1.0</td></tr><tr><th>5</th><td>1.0</td></tr></tbody></table>"
      ],
      "text/latex": [
       "\\begin{tabular}{r|c}\n",
       "\t& te\\\\\n",
       "\t\\hline\n",
       "\t& Float64\\\\\n",
       "\t\\hline\n",
       "\t1 & 0.25 \\\\\n",
       "\t2 & 0.5 \\\\\n",
       "\t3 & 0.75 \\\\\n",
       "\t4 & 1.0 \\\\\n",
       "\t5 & 1.0 \\\\\n",
       "\\end{tabular}\n"
      ],
      "text/plain": [
       "5×1 DataFrame\n",
       "│ Row │ te      │\n",
       "│     │ \u001b[90mFloat64\u001b[39m │\n",
       "├─────┼─────────┤\n",
       "│ 1   │ 0.25    │\n",
       "│ 2   │ 0.5     │\n",
       "│ 3   │ 0.75    │\n",
       "│ 4   │ 1.0     │\n",
       "│ 5   │ 1.0     │"
      ]
     },
     "execution_count": 49,
     "metadata": {},
     "output_type": "execute_result"
    }
   ],
   "source": [
    "# drop random effects starting with correlations, interaction slopes, main effect slopes, and finally intercepts\n",
    "comp_7_fm_2 = @formula(understands_elog ~ age + frequency + dominance*bilingualism*cognate + zerocorr(1 + age + dominance*bilingualism | te));\n",
    "comp_7_2 = fit(LinearMixedModel, comp_7_fm_2, d, contrasts = contr);\n",
    "DataFrame(comp_7_2.rePCA) # still too complex"
   ]
  },
  {
   "cell_type": "code",
   "execution_count": 58,
   "metadata": {},
   "outputs": [
    {
     "data": {
      "text/html": [
       "<table class=\"data-frame\"><thead><tr><th></th><th>te</th></tr><tr><th></th><th>Float64</th></tr></thead><tbody><p>4 rows × 1 columns</p><tr><th>1</th><td>0.25</td></tr><tr><th>2</th><td>0.5</td></tr><tr><th>3</th><td>0.75</td></tr><tr><th>4</th><td>1.0</td></tr></tbody></table>"
      ],
      "text/latex": [
       "\\begin{tabular}{r|c}\n",
       "\t& te\\\\\n",
       "\t\\hline\n",
       "\t& Float64\\\\\n",
       "\t\\hline\n",
       "\t1 & 0.25 \\\\\n",
       "\t2 & 0.5 \\\\\n",
       "\t3 & 0.75 \\\\\n",
       "\t4 & 1.0 \\\\\n",
       "\\end{tabular}\n"
      ],
      "text/plain": [
       "4×1 DataFrame\n",
       "│ Row │ te      │\n",
       "│     │ \u001b[90mFloat64\u001b[39m │\n",
       "├─────┼─────────┤\n",
       "│ 1   │ 0.25    │\n",
       "│ 2   │ 0.5     │\n",
       "│ 3   │ 0.75    │\n",
       "│ 4   │ 1.0     │"
      ]
     },
     "execution_count": 58,
     "metadata": {},
     "output_type": "execute_result"
    }
   ],
   "source": [
    "comp_7_fm_3 = @formula(understands_elog ~ age + frequency + dominance*bilingualism*cognate + zerocorr(1 + age + dominance + bilingualism | te));\n",
    "comp_7_3 = fit(LinearMixedModel, comp_7_fm_3, d, contrasts = contr);\n",
    "DataFrame(comp_7_3.rePCA) # this one looks better"
   ]
  },
  {
   "cell_type": "code",
   "execution_count": 52,
   "metadata": {},
   "outputs": [
    {
     "data": {
      "text/plain": [
       "Variance components:\n",
       "                Column         Variance  Std.Dev.   Corr.\n",
       "te       (Intercept)           0.1609901 0.4012357\n",
       "         age                   0.0102384 0.1011851   .  \n",
       "         dominance: L2         0.0161143 0.1269422   .     .  \n",
       "         bilingualism          0.0015878 0.0398475   .     .     .  \n",
       "         cognate: Non-Cognate  0.0073547 0.0857597   .     .     .     .  \n",
       "Residual                       0.4524558 0.6726483\n"
      ]
     },
     "execution_count": 52,
     "metadata": {},
     "output_type": "execute_result"
    }
   ],
   "source": [
    "VarCorr(comp_7_3)"
   ]
  },
  {
   "cell_type": "markdown",
   "metadata": {},
   "source": [
    "### Simplify comprehension model"
   ]
  },
  {
   "cell_type": "code",
   "execution_count": 59,
   "metadata": {},
   "outputs": [
    {
     "data": {
      "text/plain": [
       "Variance components:\n",
       "                    Column             Variance  Std.Dev.   Corr.\n",
       "te       (Intercept)                   0.0558341 0.2362924\n",
       "         age                           0.0128302 0.1132703 +0.80\n",
       "         dominance: L2                 0.0093123 0.0965002 -0.88 -0.74\n",
       "         bilingualism                  0.0001900 0.0137849 -0.84 -0.98 +0.86\n",
       "         dominance: L2 & bilingualism  0.0016522 0.0406471 +1.00 +0.79 -0.92 -0.85\n",
       "Residual                               0.2161575 0.4649274\n"
      ]
     },
     "execution_count": 59,
     "metadata": {},
     "output_type": "execute_result"
    }
   ],
   "source": [
    "VarCorr(prod_7)"
   ]
  },
  {
   "cell_type": "code",
   "execution_count": 61,
   "metadata": {},
   "outputs": [
    {
     "data": {
      "text/html": [
       "<table class=\"data-frame\"><thead><tr><th></th><th>te</th></tr><tr><th></th><th>Float64</th></tr></thead><tbody><p>5 rows × 1 columns</p><tr><th>1</th><td>0.892236</td></tr><tr><th>2</th><td>0.969711</td></tr><tr><th>3</th><td>1.0</td></tr><tr><th>4</th><td>1.0</td></tr><tr><th>5</th><td>1.0</td></tr></tbody></table>"
      ],
      "text/latex": [
       "\\begin{tabular}{r|c}\n",
       "\t& te\\\\\n",
       "\t\\hline\n",
       "\t& Float64\\\\\n",
       "\t\\hline\n",
       "\t1 & 0.892236 \\\\\n",
       "\t2 & 0.969711 \\\\\n",
       "\t3 & 1.0 \\\\\n",
       "\t4 & 1.0 \\\\\n",
       "\t5 & 1.0 \\\\\n",
       "\\end{tabular}\n"
      ],
      "text/plain": [
       "5×1 DataFrame\n",
       "│ Row │ te       │\n",
       "│     │ \u001b[90mFloat64\u001b[39m  │\n",
       "├─────┼──────────┤\n",
       "│ 1   │ 0.892236 │\n",
       "│ 2   │ 0.969711 │\n",
       "│ 3   │ 1.0      │\n",
       "│ 4   │ 1.0      │\n",
       "│ 5   │ 1.0      │"
      ]
     },
     "execution_count": 61,
     "metadata": {},
     "output_type": "execute_result"
    }
   ],
   "source": [
    "DataFrame(prod_7.rePCA)"
   ]
  },
  {
   "cell_type": "code",
   "execution_count": 62,
   "metadata": {},
   "outputs": [
    {
     "data": {
      "text/html": [
       "<table class=\"data-frame\"><thead><tr><th></th><th>te</th></tr><tr><th></th><th>Float64</th></tr></thead><tbody><p>5 rows × 1 columns</p><tr><th>1</th><td>0.25</td></tr><tr><th>2</th><td>0.5</td></tr><tr><th>3</th><td>0.75</td></tr><tr><th>4</th><td>1.0</td></tr><tr><th>5</th><td>1.0</td></tr></tbody></table>"
      ],
      "text/latex": [
       "\\begin{tabular}{r|c}\n",
       "\t& te\\\\\n",
       "\t\\hline\n",
       "\t& Float64\\\\\n",
       "\t\\hline\n",
       "\t1 & 0.25 \\\\\n",
       "\t2 & 0.5 \\\\\n",
       "\t3 & 0.75 \\\\\n",
       "\t4 & 1.0 \\\\\n",
       "\t5 & 1.0 \\\\\n",
       "\\end{tabular}\n"
      ],
      "text/plain": [
       "5×1 DataFrame\n",
       "│ Row │ te      │\n",
       "│     │ \u001b[90mFloat64\u001b[39m │\n",
       "├─────┼─────────┤\n",
       "│ 1   │ 0.25    │\n",
       "│ 2   │ 0.5     │\n",
       "│ 3   │ 0.75    │\n",
       "│ 4   │ 1.0     │\n",
       "│ 5   │ 1.0     │"
      ]
     },
     "execution_count": 62,
     "metadata": {},
     "output_type": "execute_result"
    }
   ],
   "source": [
    "# drop random effects starting with correlations, interaction slopes, main effect slopes, and finally intercepts\n",
    "prod_7_fm_2 = @formula(produces_elog ~ age + frequency + dominance*bilingualism*cognate + zerocorr(1 + age + dominance*bilingualism | te));\n",
    "prod_7_2 = fit(LinearMixedModel, prod_7_fm_2, d, contrasts = contr);\n",
    "DataFrame(prod_7_2.rePCA) # still too complex"
   ]
  },
  {
   "cell_type": "code",
   "execution_count": 63,
   "metadata": {},
   "outputs": [
    {
     "data": {
      "text/html": [
       "<table class=\"data-frame\"><thead><tr><th></th><th>te</th></tr><tr><th></th><th>Float64</th></tr></thead><tbody><p>4 rows × 1 columns</p><tr><th>1</th><td>0.25</td></tr><tr><th>2</th><td>0.5</td></tr><tr><th>3</th><td>0.75</td></tr><tr><th>4</th><td>1.0</td></tr></tbody></table>"
      ],
      "text/latex": [
       "\\begin{tabular}{r|c}\n",
       "\t& te\\\\\n",
       "\t\\hline\n",
       "\t& Float64\\\\\n",
       "\t\\hline\n",
       "\t1 & 0.25 \\\\\n",
       "\t2 & 0.5 \\\\\n",
       "\t3 & 0.75 \\\\\n",
       "\t4 & 1.0 \\\\\n",
       "\\end{tabular}\n"
      ],
      "text/plain": [
       "4×1 DataFrame\n",
       "│ Row │ te      │\n",
       "│     │ \u001b[90mFloat64\u001b[39m │\n",
       "├─────┼─────────┤\n",
       "│ 1   │ 0.25    │\n",
       "│ 2   │ 0.5     │\n",
       "│ 3   │ 0.75    │\n",
       "│ 4   │ 1.0     │"
      ]
     },
     "execution_count": 63,
     "metadata": {},
     "output_type": "execute_result"
    }
   ],
   "source": [
    "prod_7_fm_3 = @formula(produces_elog ~ age + frequency + dominance*bilingualism*cognate + zerocorr(1 + age + dominance + bilingualism  | te));\n",
    "prod_7_3 = fit(LinearMixedModel, prod_7_fm_3, d, contrasts = contr);\n",
    "DataFrame(prod_7_3.rePCA) # this one looks better"
   ]
  },
  {
   "cell_type": "code",
   "execution_count": 65,
   "metadata": {},
   "outputs": [
    {
     "data": {
      "text/plain": [
       "Variance components:\n",
       "             Column     Variance   Std.Dev.    Corr.\n",
       "te       (Intercept)    0.04541656 0.21311162\n",
       "         age            0.01297658 0.11391480   .  \n",
       "         dominance: L2  0.00732734 0.08559986   .     .  \n",
       "         bilingualism   0.00000414 0.00203499   .     .     .  \n",
       "Residual                0.21691904 0.46574568\n"
      ]
     },
     "execution_count": 65,
     "metadata": {},
     "output_type": "execute_result"
    }
   ],
   "source": [
    "VarCorr(prod_7_3)"
   ]
  },
  {
   "cell_type": "markdown",
   "metadata": {},
   "source": [
    "## Explore fixed effects"
   ]
  },
  {
   "cell_type": "markdown",
   "metadata": {},
   "source": [
    "### Comprehension fixed effects"
   ]
  },
  {
   "cell_type": "code",
   "execution_count": 94,
   "metadata": {},
   "outputs": [
    {
     "ename": "LoadError",
     "evalue": "MethodError: no method matching /(::Symbol, ::Int64)\nClosest candidates are:\n  /(!Matched::MutableArithmetics.Zero, ::Any) at C:\\Users\\gonza\\.julia\\packages\\MutableArithmetics\\t7EFh\\src\\rewrite.jl:58\n  /(!Matched::Missing, ::Number) at missing.jl:115\n  /(!Matched::Union{Int128, Int16, Int32, Int64, Int8, UInt128, UInt16, UInt32, UInt64, UInt8}, ::Union{Int128, Int16, Int32, Int64, Int8, UInt128, UInt16, UInt32, UInt64, UInt8}) at int.jl:92\n  ...",
     "output_type": "error",
     "traceback": [
      "MethodError: no method matching /(::Symbol, ::Int64)\nClosest candidates are:\n  /(!Matched::MutableArithmetics.Zero, ::Any) at C:\\Users\\gonza\\.julia\\packages\\MutableArithmetics\\t7EFh\\src\\rewrite.jl:58\n  /(!Matched::Missing, ::Number) at missing.jl:115\n  /(!Matched::Union{Int128, Int16, Int32, Int64, Int8, UInt128, UInt16, UInt32, UInt64, UInt8}, ::Union{Int128, Int16, Int32, Int64, Int8, UInt128, UInt16, UInt32, UInt64, UInt8}) at int.jl:92\n  ...",
      "",
      "Stacktrace:",
      " [1] top-level scope at In[94]:2",
      " [2] include_string(::Function, ::Module, ::String, ::String) at .\\loading.jl:1091"
     ]
    }
   ],
   "source": [
    "comp_coef = coeftable(comp_7_3)\n",
    "insertcols!(comp_coef, :deriv => :Coef /4)"
   ]
  },
  {
   "cell_type": "code",
   "execution_count": 171,
   "metadata": {},
   "outputs": [
    {
     "ename": "LoadError",
     "evalue": "MethodError: no method matching length(::CoefTable)\nClosest candidates are:\n  length(!Matched::Arrow.VectorIterator) at C:\\Users\\gonza\\.julia\\packages\\Arrow\\CyJ4L\\src\\table.jl:337\n  length(!Matched::Plots.PlotText) at C:\\Users\\gonza\\.julia\\packages\\Plots\\IjNHT\\src\\components.jl:389\n  length(!Matched::Cmd) at process.jl:638\n  ...",
     "output_type": "error",
     "traceback": [
      "MethodError: no method matching length(::CoefTable)\nClosest candidates are:\n  length(!Matched::Arrow.VectorIterator) at C:\\Users\\gonza\\.julia\\packages\\Arrow\\CyJ4L\\src\\table.jl:337\n  length(!Matched::Plots.PlotText) at C:\\Users\\gonza\\.julia\\packages\\Plots\\IjNHT\\src\\components.jl:389\n  length(!Matched::Cmd) at process.jl:638\n  ...",
      "",
      "Stacktrace:",
      " [1] _similar_for(::UnitRange{Int64}, ::Type{Any}, ::CoefTable, ::Base.HasLength) at .\\array.jl:597",
      " [2] _collect(::UnitRange{Int64}, ::CoefTable, ::Base.HasEltype, ::Base.HasLength) at .\\array.jl:630",
      " [3] collect(::CoefTable) at .\\array.jl:624",
      " [4] broadcastable(::CoefTable) at .\\broadcast.jl:682",
      " [5] broadcasted(::Function, ::CoefTable) at .\\broadcast.jl:1255",
      " [6] top-level scope at In[171]:1",
      " [7] include_string(::Function, ::Module, ::String, ::String) at .\\loading.jl:1091"
     ]
    }
   ],
   "source": [
    "MixedModels.coeftable(prod_6_3)"
   ]
  }
 ],
 "metadata": {
  "kernelspec": {
   "display_name": "Julia 1.5.3",
   "language": "julia",
   "name": "julia-1.5"
  },
  "language_info": {
   "file_extension": ".jl",
   "mimetype": "application/julia",
   "name": "julia",
   "version": "1.5.3"
  }
 },
 "nbformat": 4,
 "nbformat_minor": 4
}
