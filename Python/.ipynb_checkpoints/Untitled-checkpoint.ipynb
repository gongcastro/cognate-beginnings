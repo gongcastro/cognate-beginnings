{
 "cells": [
  {
   "cell_type": "markdown",
   "metadata": {},
   "source": [
    "# Fit models"
   ]
  },
  {
   "cell_type": "markdown",
   "metadata": {},
   "source": [
    "## Set up"
   ]
  },
  {
   "cell_type": "code",
   "execution_count": 19,
   "metadata": {},
   "outputs": [],
   "source": [
    "import pandas as pd\n",
    "import numpy as np\n",
    "import pystan"
   ]
  },
  {
   "cell_type": "markdown",
   "metadata": {},
   "source": [
    "## Import data"
   ]
  },
  {
   "cell_type": "code",
   "execution_count": 162,
   "metadata": {},
   "outputs": [
    {
     "name": "stdout",
     "output_type": "stream",
     "text": [
      "       id  time  sex        age  doe_catalan  doe_spanish language  \\\n",
      "0     163     2  0.5   2.434428         40.0         60.0  Catalan   \n",
      "1     163     2  0.5   2.434428         40.0         60.0  Catalan   \n",
      "2     163     2  0.5   2.434428         40.0         60.0  Spanish   \n",
      "3     163     2  0.5   2.434428         40.0         60.0  Spanish   \n",
      "4      10     2  NaN   1.876239         60.0         40.0  Catalan   \n",
      "...   ...   ...  ...        ...          ...          ...      ...   \n",
      "1535    3     1  0.5   7.340356         40.0         40.0  Spanish   \n",
      "1536    5     1 -0.5  14.306743         40.0         20.0  Catalan   \n",
      "1537    5     1 -0.5  14.306743         40.0         20.0  Catalan   \n",
      "1538    5     1 -0.5  14.306743         40.0         20.0  Spanish   \n",
      "1539    5     1 -0.5  14.306743         40.0         20.0  Spanish   \n",
      "\n",
      "      vocab_type  vocab_count  vocab_n  vocab_prop  bilingualism  \n",
      "0            1.0          156      786    0.198473      0.151377  \n",
      "1            0.0          268      786    0.340967      0.151377  \n",
      "2            1.0           79      797    0.099122      0.151377  \n",
      "3            0.0          243      797    0.304893      0.151377  \n",
      "4            1.0          142      786    0.180662      0.151377  \n",
      "...          ...          ...      ...         ...           ...  \n",
      "1535         0.0          613      786    0.779898      0.251377  \n",
      "1536         1.0          170      772    0.220207     -0.048623  \n",
      "1537         0.0          625      772    0.809585     -0.048623  \n",
      "1538         1.0          106      786    0.134860     -0.048623  \n",
      "1539         0.0          618      786    0.786260     -0.048623  \n",
      "\n",
      "[1540 rows x 12 columns]\n"
     ]
    }
   ],
   "source": [
    "d = pd.read_csv('../Data/vocabulary.csv',\n",
    "             dtype = {'id': np.int32,\n",
    "                      'time': np.int32,\n",
    "                      'age': np.float64,\n",
    "                      'sex': np.float64,\n",
    "                      'doe_catalan': np.float64,\n",
    "                      'doe_spanish': np.float64,\n",
    "                      'bilingualism': np.float64,\n",
    "                      'language': 'string',\n",
    "                      'vocab_type': np.float64,\n",
    "                      'vocab_count': np.int32,\n",
    "                      'vocab_n': np.int32,\n",
    "                      'vocab_prop': np.float64})\n",
    "\n",
    "print(d)"
   ]
  },
  {
   "cell_type": "code",
   "execution_count": 192,
   "metadata": {},
   "outputs": [
    {
     "data": {
      "text/plain": [
       "array([[1.0, 1.0],\n",
       "       [1.0, 0.0],\n",
       "       [1.0, 1.0],\n",
       "       ...,\n",
       "       [1.0, 0.0],\n",
       "       [1.0, 1.0],\n",
       "       [1.0, 0.0]], dtype=object)"
      ]
     },
     "execution_count": 192,
     "metadata": {},
     "output_type": "execute_result"
    }
   ],
   "source": [
    "mat = np.matrix(d)\n",
    "model_matrix = pd.DataFrame(np.vstack((np.ones(mat.shape[0]), mat[:,7].T)).T).values\n",
    "model_matrix"
   ]
  },
  {
   "cell_type": "code",
   "execution_count": 190,
   "metadata": {},
   "outputs": [
    {
     "data": {
      "text/plain": [
       "{'N': 2,\n",
       " 'Y': array([156, 268,  79, ..., 625, 106, 618]),\n",
       " 'trials': array([786, 786, 797, ..., 772, 786, 786]),\n",
       " 'K': 2,\n",
       " 'X':       0  1\n",
       " 0     1  1\n",
       " 1     1  0\n",
       " 2     1  1\n",
       " 3     1  0\n",
       " 4     1  1\n",
       " ...  .. ..\n",
       " 1535  1  0\n",
       " 1536  1  1\n",
       " 1537  1  0\n",
       " 1538  1  1\n",
       " 1539  1  0\n",
       " \n",
       " [1540 rows x 2 columns]}"
      ]
     },
     "execution_count": 190,
     "metadata": {},
     "output_type": "execute_result"
    }
   ],
   "source": [
    "d_stan = {'N': N,\n",
    "          'Y': np.asarray(d[\"vocab_count\"]),\n",
    "          'trials': np.asarray(d[\"vocab_n\"]),\n",
    "          'K': N,\n",
    "          'X': model_matrix\n",
    "         }\n",
    "d_stan"
   ]
  },
  {
   "cell_type": "markdown",
   "metadata": {},
   "source": [
    "## Fit models"
   ]
  },
  {
   "cell_type": "markdown",
   "metadata": {},
   "source": [
    "### Null model"
   ]
  },
  {
   "cell_type": "code",
   "execution_count": 22,
   "metadata": {},
   "outputs": [
    {
     "name": "stderr",
     "output_type": "stream",
     "text": [
      "INFO:pystan:COMPILING THE C++ CODE FOR MODEL anon_model_a75a8495d1cf0b4152d5df8dc2d31bf5 NOW.\n"
     ]
    },
    {
     "name": "stdout",
     "output_type": "stream",
     "text": [
      "StanModel object 'anon_model_a75a8495d1cf0b4152d5df8dc2d31bf5' coded as follows:\n",
      "// generated with brms 2.13.5\n",
      "functions {\n",
      "}\n",
      "data {\n",
      "  int<lower=1> N;  // number of observations\n",
      "  int Y[N];  // response variable\n",
      "  int trials[N];  // number of trials\n",
      "  int<lower=1> K;  // number of population-level effects\n",
      "  matrix[N, K] X;  // population-level design matrix\n",
      "  int prior_only;  // should the likelihood be ignored?\n",
      "}\n",
      "transformed data {\n",
      "  int Kc = K - 1;\n",
      "  matrix[N, Kc] Xc;  // centered version of X without an intercept\n",
      "  vector[Kc] means_X;  // column means of X before centering\n",
      "  for (i in 2:K) {\n",
      "    means_X[i - 1] = mean(X[, i]);\n",
      "    Xc[, i - 1] = X[, i] - means_X[i - 1];\n",
      "  }\n",
      "}\n",
      "parameters {\n",
      "  vector[Kc] b;  // population-level effects\n",
      "  real Intercept;  // temporary intercept for centered predictors\n",
      "}\n",
      "transformed parameters {\n",
      "}\n",
      "model {\n",
      "  // initialize linear predictor term\n",
      "  vector[N] mu = Intercept + Xc * b;\n",
      "  // priors including all constants\n",
      "  target += normal_lpdf(b | 0, 0.5);\n",
      "  target += normal_lpdf(Intercept | 0, 1);\n",
      "  // likelihood including all constants\n",
      "  if (!prior_only) {\n",
      "    target += binomial_logit_lpmf(Y | trials, mu);\n",
      "  }\n",
      "}\n",
      "generated quantities {\n",
      "  // actual population-level intercept\n",
      "  real b_Intercept = Intercept - dot_product(means_X, b);\n",
      "}\n",
      "\n"
     ]
    }
   ],
   "source": [
    "model0 = pystan.StanModel(file='../Stan/vocabulary0.stan')\n",
    "print(model0)"
   ]
  },
  {
   "cell_type": "code",
   "execution_count": 193,
   "metadata": {},
   "outputs": [
    {
     "ename": "ValueError",
     "evalue": "Variable X is neither int nor float nor list/array thereof",
     "output_type": "error",
     "traceback": [
      "\u001b[1;31m---------------------------------------------------------------------------\u001b[0m",
      "\u001b[1;31mValueError\u001b[0m                                Traceback (most recent call last)",
      "\u001b[1;32m<ipython-input-193-a21b4b1a4d7e>\u001b[0m in \u001b[0;36m<module>\u001b[1;34m\u001b[0m\n\u001b[1;32m----> 1\u001b[1;33m \u001b[0mfit0\u001b[0m \u001b[1;33m=\u001b[0m \u001b[0mmodel0\u001b[0m\u001b[1;33m.\u001b[0m\u001b[0msampling\u001b[0m\u001b[1;33m(\u001b[0m\u001b[0mdata\u001b[0m\u001b[1;33m=\u001b[0m\u001b[0md_stan\u001b[0m\u001b[1;33m,\u001b[0m \u001b[0miter\u001b[0m\u001b[1;33m=\u001b[0m\u001b[1;36m1000\u001b[0m\u001b[1;33m,\u001b[0m \u001b[0mchains\u001b[0m\u001b[1;33m=\u001b[0m\u001b[1;36m1\u001b[0m\u001b[1;33m,\u001b[0m \u001b[0mcores\u001b[0m\u001b[1;33m=\u001b[0m\u001b[1;36m1\u001b[0m\u001b[1;33m)\u001b[0m\u001b[1;33m\u001b[0m\u001b[1;33m\u001b[0m\u001b[0m\n\u001b[0m\u001b[0;32m      2\u001b[0m \u001b[1;33m\u001b[0m\u001b[0m\n\u001b[0;32m      3\u001b[0m \u001b[0mprint\u001b[0m\u001b[1;33m(\u001b[0m\u001b[0mfit0\u001b[0m\u001b[1;33m)\u001b[0m\u001b[1;33m\u001b[0m\u001b[1;33m\u001b[0m\u001b[0m\n",
      "\u001b[1;32m~\\Anaconda3\\lib\\site-packages\\pystan\\model.py\u001b[0m in \u001b[0;36msampling\u001b[1;34m(self, data, pars, chains, iter, warmup, thin, seed, init, sample_file, diagnostic_file, verbose, algorithm, control, n_jobs, **kwargs)\u001b[0m\n\u001b[0;32m    756\u001b[0m                 \u001b[1;32mraise\u001b[0m \u001b[0mValueError\u001b[0m\u001b[1;33m(\u001b[0m\u001b[1;34m\"Warmup samples must be greater than 0 when adaptation is enabled (`adapt_engaged=True`)\"\u001b[0m\u001b[1;33m)\u001b[0m\u001b[1;33m\u001b[0m\u001b[1;33m\u001b[0m\u001b[0m\n\u001b[0;32m    757\u001b[0m         \u001b[0mseed\u001b[0m \u001b[1;33m=\u001b[0m \u001b[0mpystan\u001b[0m\u001b[1;33m.\u001b[0m\u001b[0mmisc\u001b[0m\u001b[1;33m.\u001b[0m\u001b[0m_check_seed\u001b[0m\u001b[1;33m(\u001b[0m\u001b[0mseed\u001b[0m\u001b[1;33m)\u001b[0m\u001b[1;33m\u001b[0m\u001b[1;33m\u001b[0m\u001b[0m\n\u001b[1;32m--> 758\u001b[1;33m         \u001b[0mfit\u001b[0m \u001b[1;33m=\u001b[0m \u001b[0mself\u001b[0m\u001b[1;33m.\u001b[0m\u001b[0mfit_class\u001b[0m\u001b[1;33m(\u001b[0m\u001b[0mdata\u001b[0m\u001b[1;33m,\u001b[0m \u001b[0mseed\u001b[0m\u001b[1;33m)\u001b[0m\u001b[1;33m\u001b[0m\u001b[1;33m\u001b[0m\u001b[0m\n\u001b[0m\u001b[0;32m    759\u001b[0m \u001b[1;33m\u001b[0m\u001b[0m\n\u001b[0;32m    760\u001b[0m         \u001b[0mm_pars\u001b[0m \u001b[1;33m=\u001b[0m \u001b[0mfit\u001b[0m\u001b[1;33m.\u001b[0m\u001b[0m_get_param_names\u001b[0m\u001b[1;33m(\u001b[0m\u001b[1;33m)\u001b[0m\u001b[1;33m\u001b[0m\u001b[1;33m\u001b[0m\u001b[0m\n",
      "\u001b[1;32mstanfit4anon_model_a75a8495d1cf0b4152d5df8dc2d31bf5_6856827866507696967.pyx\u001b[0m in \u001b[0;36mstanfit4anon_model_a75a8495d1cf0b4152d5df8dc2d31bf5_6856827866507696967.StanFit4Model.__cinit__\u001b[1;34m()\u001b[0m\n",
      "\u001b[1;32m~\\Anaconda3\\lib\\site-packages\\pystan\\misc.py\u001b[0m in \u001b[0;36m_split_data\u001b[1;34m(data)\u001b[0m\n\u001b[0;32m    410\u001b[0m         \u001b[1;32melse\u001b[0m\u001b[1;33m:\u001b[0m\u001b[1;33m\u001b[0m\u001b[1;33m\u001b[0m\u001b[0m\n\u001b[0;32m    411\u001b[0m             \u001b[0mmsg\u001b[0m \u001b[1;33m=\u001b[0m \u001b[1;34m\"Variable {} is neither int nor float nor list/array thereof\"\u001b[0m\u001b[1;33m\u001b[0m\u001b[1;33m\u001b[0m\u001b[0m\n\u001b[1;32m--> 412\u001b[1;33m             \u001b[1;32mraise\u001b[0m \u001b[0mValueError\u001b[0m\u001b[1;33m(\u001b[0m\u001b[0mmsg\u001b[0m\u001b[1;33m.\u001b[0m\u001b[0mformat\u001b[0m\u001b[1;33m(\u001b[0m\u001b[0mk\u001b[0m\u001b[1;33m)\u001b[0m\u001b[1;33m)\u001b[0m\u001b[1;33m\u001b[0m\u001b[1;33m\u001b[0m\u001b[0m\n\u001b[0m\u001b[0;32m    413\u001b[0m     \u001b[1;32mreturn\u001b[0m \u001b[0mdata_r\u001b[0m\u001b[1;33m,\u001b[0m \u001b[0mdata_i\u001b[0m\u001b[1;33m\u001b[0m\u001b[1;33m\u001b[0m\u001b[0m\n\u001b[0;32m    414\u001b[0m \u001b[1;33m\u001b[0m\u001b[0m\n",
      "\u001b[1;31mValueError\u001b[0m: Variable X is neither int nor float nor list/array thereof"
     ]
    }
   ],
   "source": [
    "fit0 = model0.sampling(data=d_stan, iter=1000, chains=1, cores=1)\n",
    "\n",
    "print(fit0)"
   ]
  },
  {
   "cell_type": "code",
   "execution_count": null,
   "metadata": {},
   "outputs": [],
   "source": [
    "p0 = fit0.extract(permuted=TRUE)\n",
    "params0 = fit0.get_sampler_params()"
   ]
  }
 ],
 "metadata": {
  "kernelspec": {
   "display_name": "Python 3",
   "language": "python",
   "name": "python3"
  },
  "language_info": {
   "codemirror_mode": {
    "name": "ipython",
    "version": 3
   },
   "file_extension": ".py",
   "mimetype": "text/x-python",
   "name": "python",
   "nbconvert_exporter": "python",
   "pygments_lexer": "ipython3",
   "version": "3.8.3"
  }
 },
 "nbformat": 4,
 "nbformat_minor": 4
}
